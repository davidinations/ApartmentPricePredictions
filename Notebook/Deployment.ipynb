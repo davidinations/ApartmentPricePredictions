{
 "cells": [
  {
   "cell_type": "code",
   "execution_count": null,
   "metadata": {},
   "outputs": [],
   "source": [
    "import requests\n",
    "\n",
    "# Set url of the model that has been deployed\n",
    "url = \"http://127.0.0.1:8000/prediction\"\n",
    "\n",
    "# define data\n",
    "payload = {\n",
    "    \"data\": [\n",
    "    {\n",
    "    'HallwayType': 'terraced',\n",
    "    'TimeToSubway': '0-5min',\n",
    "    'SubwayStation': 'Banwoldang',\n",
    "    'N_FacilitiesNearBy(ETC)': 0.0,\n",
    "    'N_FacilitiesNearBy(PublicOffice)': 4.0,\n",
    "    'N_SchoolNearBy(University)': 1.0,\n",
    "    'N_Parkinglot(Basement)': 605.0,\n",
    "    'YearBuilt': 2007,\n",
    "    'N_FacilitiesInApt': 5,\n",
    "    'Size(sqf)': 1334,\n",
    "    'SalePrice': 357522\n",
    "    },\n",
    "    ],\n",
    "}\n",
    "\n",
    "# Send a POST request to the URL\n",
    "result = requests.post(url, json=payload)\n",
    "\n",
    "# Show the response\n",
    "print(result.json())"
   ]
  }
 ],
 "metadata": {
  "language_info": {
   "name": "python"
  }
 },
 "nbformat": 4,
 "nbformat_minor": 2
}
