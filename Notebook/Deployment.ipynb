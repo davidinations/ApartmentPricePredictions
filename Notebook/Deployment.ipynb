{
 "cells": [
  {
   "cell_type": "code",
   "execution_count": 1,
   "metadata": {},
   "outputs": [
    {
     "name": "stdout",
     "output_type": "stream",
     "text": [
      "{'detail': [{'loc': ['body', 'data', 0, 'N_FacilitiesNearBy_ETC'], 'msg': 'field required', 'type': 'value_error.missing'}, {'loc': ['body', 'data', 0, 'N_FacilitiesNearBy_PublicOffice'], 'msg': 'field required', 'type': 'value_error.missing'}, {'loc': ['body', 'data', 0, 'N_SchoolNearBy_University'], 'msg': 'field required', 'type': 'value_error.missing'}, {'loc': ['body', 'data', 0, 'N_Parkinglot_Basement'], 'msg': 'field required', 'type': 'value_error.missing'}, {'loc': ['body', 'data', 0, 'Size_sqf'], 'msg': 'field required', 'type': 'value_error.missing'}]}\n"
     ]
    }
   ],
   "source": [
    "import requests\n",
    "from pycaret.regression import *\n",
    "from Requirement import *\n",
    "\n",
    "# Set url of the model that has been deployed\n",
    "url = \"http://127.0.0.1:8000/prediction\"\n",
    "\n",
    "# define data\n",
    "payload = {\n",
    "    \"data\": [\n",
    "    {\n",
    "    'HallwayType': 'terraced',\n",
    "    'TimeToSubway': '0-5min',\n",
    "    'SubwayStation': 'Banwoldang',\n",
    "    'N_FacilitiesNearBy(ETC)': 0.0,\n",
    "    'N_FacilitiesNearBy(PublicOffice)': 4.0,\n",
    "    'N_SchoolNearBy(University)': 1.0,\n",
    "    'N_Parkinglot(Basement)': 605.0,\n",
    "    'YearBuilt': 2007,\n",
    "    'N_FacilitiesInApt': 5,\n",
    "    'Size(sqf)': 1334,\n",
    "    'SalePrice': 357522\n",
    "    },\n",
    "    ],\n",
    "}\n",
    "\n",
    "# Send a POST request to the URL\n",
    "result = requests.post(url, json=payload)\n",
    "\n",
    "# Show the response\n",
    "print(result.json())"
   ]
  },
  {
   "cell_type": "code",
   "execution_count": 15,
   "metadata": {},
   "outputs": [
    {
     "data": {
      "text/html": [
       "<div>\n",
       "<style scoped>\n",
       "    .dataframe tbody tr th:only-of-type {\n",
       "        vertical-align: middle;\n",
       "    }\n",
       "\n",
       "    .dataframe tbody tr th {\n",
       "        vertical-align: top;\n",
       "    }\n",
       "\n",
       "    .dataframe thead th {\n",
       "        text-align: right;\n",
       "    }\n",
       "</style>\n",
       "<table border=\"1\" class=\"dataframe\">\n",
       "  <thead>\n",
       "    <tr style=\"text-align: right;\">\n",
       "      <th></th>\n",
       "      <th>HallwayType</th>\n",
       "      <th>TimeToSubway</th>\n",
       "      <th>SubwayStation</th>\n",
       "      <th>N_FacilitiesNearBy(ETC)</th>\n",
       "      <th>N_FacilitiesNearBy(PublicOffice)</th>\n",
       "      <th>N_SchoolNearBy(University)</th>\n",
       "      <th>N_Parkinglot(Basement)</th>\n",
       "      <th>YearBuilt</th>\n",
       "      <th>N_FacilitiesInApt</th>\n",
       "      <th>Size(sqf)</th>\n",
       "      <th>SalePrice</th>\n",
       "    </tr>\n",
       "  </thead>\n",
       "  <tbody>\n",
       "    <tr>\n",
       "      <th>0</th>\n",
       "      <td>terraced</td>\n",
       "      <td>0-5min</td>\n",
       "      <td>Banwoldang</td>\n",
       "      <td>0.0</td>\n",
       "      <td>4.0</td>\n",
       "      <td>1.0</td>\n",
       "      <td>605.0</td>\n",
       "      <td>2007</td>\n",
       "      <td>5</td>\n",
       "      <td>1334</td>\n",
       "      <td>357522</td>\n",
       "    </tr>\n",
       "  </tbody>\n",
       "</table>\n",
       "</div>"
      ],
      "text/plain": [
       "  HallwayType TimeToSubway SubwayStation  N_FacilitiesNearBy(ETC)  \\\n",
       "0    terraced       0-5min    Banwoldang                      0.0   \n",
       "\n",
       "   N_FacilitiesNearBy(PublicOffice)  N_SchoolNearBy(University)  \\\n",
       "0                               4.0                         1.0   \n",
       "\n",
       "   N_Parkinglot(Basement)  YearBuilt  N_FacilitiesInApt  Size(sqf)  SalePrice  \n",
       "0                   605.0       2007                  5       1334     357522  "
      ]
     },
     "execution_count": 15,
     "metadata": {},
     "output_type": "execute_result"
    }
   ],
   "source": [
    "data = pd.DataFrame(payload['data'])\n",
    "data"
   ]
  },
  {
   "cell_type": "code",
   "execution_count": 16,
   "metadata": {},
   "outputs": [
    {
     "name": "stdout",
     "output_type": "stream",
     "text": [
      "Transformation Pipeline and Model Successfully Loaded\n"
     ]
    },
    {
     "data": {
      "text/html": [
       "<div>\n",
       "<style scoped>\n",
       "    .dataframe tbody tr th:only-of-type {\n",
       "        vertical-align: middle;\n",
       "    }\n",
       "\n",
       "    .dataframe tbody tr th {\n",
       "        vertical-align: top;\n",
       "    }\n",
       "\n",
       "    .dataframe thead th {\n",
       "        text-align: right;\n",
       "    }\n",
       "</style>\n",
       "<table border=\"1\" class=\"dataframe\">\n",
       "  <thead>\n",
       "    <tr style=\"text-align: right;\">\n",
       "      <th></th>\n",
       "      <th>HallwayType</th>\n",
       "      <th>TimeToSubway</th>\n",
       "      <th>SubwayStation</th>\n",
       "      <th>N_FacilitiesNearBy(ETC)</th>\n",
       "      <th>N_FacilitiesNearBy(PublicOffice)</th>\n",
       "      <th>N_SchoolNearBy(University)</th>\n",
       "      <th>N_Parkinglot(Basement)</th>\n",
       "      <th>YearBuilt</th>\n",
       "      <th>N_FacilitiesInApt</th>\n",
       "      <th>Size(sqf)</th>\n",
       "      <th>SalePrice</th>\n",
       "      <th>prediction_label</th>\n",
       "    </tr>\n",
       "  </thead>\n",
       "  <tbody>\n",
       "    <tr>\n",
       "      <th>0</th>\n",
       "      <td>terraced</td>\n",
       "      <td>0-5min</td>\n",
       "      <td>Banwoldang</td>\n",
       "      <td>0.0</td>\n",
       "      <td>4.0</td>\n",
       "      <td>1.0</td>\n",
       "      <td>605.0</td>\n",
       "      <td>2007</td>\n",
       "      <td>5</td>\n",
       "      <td>1334</td>\n",
       "      <td>357522</td>\n",
       "      <td>336163.591737</td>\n",
       "    </tr>\n",
       "  </tbody>\n",
       "</table>\n",
       "</div>"
      ],
      "text/plain": [
       "  HallwayType TimeToSubway SubwayStation  N_FacilitiesNearBy(ETC)  \\\n",
       "0    terraced       0-5min    Banwoldang                      0.0   \n",
       "\n",
       "   N_FacilitiesNearBy(PublicOffice)  N_SchoolNearBy(University)  \\\n",
       "0                               4.0                         1.0   \n",
       "\n",
       "   N_Parkinglot(Basement)  YearBuilt  N_FacilitiesInApt  Size(sqf)  SalePrice  \\\n",
       "0                   605.0       2007                  5       1334     357522   \n",
       "\n",
       "   prediction_label  \n",
       "0     336163.591737  "
      ]
     },
     "execution_count": 16,
     "metadata": {},
     "output_type": "execute_result"
    }
   ],
   "source": [
    "mdl = load_model('../model/final_model') \n",
    "\n",
    "predict_model(mdl, data=data)"
   ]
  }
 ],
 "metadata": {
  "kernelspec": {
   "display_name": "base",
   "language": "python",
   "name": "python3"
  },
  "language_info": {
   "codemirror_mode": {
    "name": "ipython",
    "version": 3
   },
   "file_extension": ".py",
   "mimetype": "text/x-python",
   "name": "python",
   "nbconvert_exporter": "python",
   "pygments_lexer": "ipython3",
   "version": "3.11.4"
  }
 },
 "nbformat": 4,
 "nbformat_minor": 2
}
