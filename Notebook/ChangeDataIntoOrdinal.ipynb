{
 "cells": [
  {
   "cell_type": "code",
   "execution_count": 1,
   "metadata": {},
   "outputs": [],
   "source": [
    "# # Get the column indices\n",
    "# cols = pd.Series(data.columns)\n",
    "# for dup in cols[cols.duplicated()].unique(): \n",
    "#     print(dup)\n",
    "#     print(cols[cols == dup].index.tolist())"
   ]
  },
  {
   "cell_type": "markdown",
   "metadata": {},
   "source": [
    "# **Data Collection**"
   ]
  },
  {
   "cell_type": "code",
   "execution_count": 2,
   "metadata": {},
   "outputs": [],
   "source": [
    "import pandas as pd\n",
    "import numpy as np\n",
    "import matplotlib.pyplot as plt\n",
    "import seaborn as sns\n",
    "import warnings\n",
    "warnings.filterwarnings('ignore')"
   ]
  },
  {
   "cell_type": "code",
   "execution_count": 3,
   "metadata": {},
   "outputs": [],
   "source": [
    "# set max_columns to None\n",
    "pd.set_option('display.max_columns', None)\n",
    "pd.set_option('display.max_rows', None)\n",
    "pd.set_option('display.max_colwidth', 120)\n",
    "\n",
    "data = pd.read_csv('../data/data_daegu_apartment.csv')"
   ]
  },
  {
   "cell_type": "markdown",
   "metadata": {},
   "source": [
    "# **Exploratory Data Analysis (EDA)**"
   ]
  },
  {
   "cell_type": "markdown",
   "metadata": {},
   "source": [
    "### Skimming Data"
   ]
  },
  {
   "cell_type": "code",
   "execution_count": 4,
   "metadata": {},
   "outputs": [
    {
     "name": "stdout",
     "output_type": "stream",
     "text": [
      "Jumlah Baris,Kolom : (4123, 11)\n",
      "Jumlah Seluruh Data Duplikat (Ditambah Data Aslinya) : 2100\n",
      "Jumlah Data Duplikat Yang Dihapus : 1422\n",
      "Jumlah Data Duplikat Yang Terjaga : 678\n"
     ]
    },
    {
     "data": {
      "text/html": [
       "<div>\n",
       "<style scoped>\n",
       "    .dataframe tbody tr th:only-of-type {\n",
       "        vertical-align: middle;\n",
       "    }\n",
       "\n",
       "    .dataframe tbody tr th {\n",
       "        vertical-align: top;\n",
       "    }\n",
       "\n",
       "    .dataframe thead th {\n",
       "        text-align: right;\n",
       "    }\n",
       "</style>\n",
       "<table border=\"1\" class=\"dataframe\">\n",
       "  <thead>\n",
       "    <tr style=\"text-align: right;\">\n",
       "      <th></th>\n",
       "      <th>datatype</th>\n",
       "      <th>null</th>\n",
       "      <th>%null</th>\n",
       "      <th>negative</th>\n",
       "      <th>%negative</th>\n",
       "      <th>min_value</th>\n",
       "      <th>max_value</th>\n",
       "      <th>n_unique</th>\n",
       "      <th>sample_unique</th>\n",
       "    </tr>\n",
       "  </thead>\n",
       "  <tbody>\n",
       "    <tr>\n",
       "      <th>HallwayType</th>\n",
       "      <td>object</td>\n",
       "      <td>0</td>\n",
       "      <td>0.0</td>\n",
       "      <td>0.0</td>\n",
       "      <td>0.0</td>\n",
       "      <td>NaN</td>\n",
       "      <td>NaN</td>\n",
       "      <td>3</td>\n",
       "      <td>[terraced, mixed, corridor]</td>\n",
       "    </tr>\n",
       "    <tr>\n",
       "      <th>TimeToSubway</th>\n",
       "      <td>object</td>\n",
       "      <td>0</td>\n",
       "      <td>0.0</td>\n",
       "      <td>0.0</td>\n",
       "      <td>0.0</td>\n",
       "      <td>NaN</td>\n",
       "      <td>NaN</td>\n",
       "      <td>5</td>\n",
       "      <td>[0-5min, 10min~15min, 15min~20min, 5min~10min, no_bus_stop_nearby]</td>\n",
       "    </tr>\n",
       "    <tr>\n",
       "      <th>SubwayStation</th>\n",
       "      <td>object</td>\n",
       "      <td>0</td>\n",
       "      <td>0.0</td>\n",
       "      <td>0.0</td>\n",
       "      <td>0.0</td>\n",
       "      <td>NaN</td>\n",
       "      <td>NaN</td>\n",
       "      <td>8</td>\n",
       "      <td>[Kyungbuk_uni_hospital, Chil-sung-market, Bangoge, Sin-nam, Banwoldang, no_subway_nearby, Myung-duk, Daegu]</td>\n",
       "    </tr>\n",
       "    <tr>\n",
       "      <th>N_FacilitiesNearBy(ETC)</th>\n",
       "      <td>float64</td>\n",
       "      <td>0</td>\n",
       "      <td>0.0</td>\n",
       "      <td>0.0</td>\n",
       "      <td>0.0</td>\n",
       "      <td>0.0</td>\n",
       "      <td>5.0</td>\n",
       "      <td>4</td>\n",
       "      <td>[0.0, 1.0, 5.0, 2.0]</td>\n",
       "    </tr>\n",
       "    <tr>\n",
       "      <th>N_FacilitiesNearBy(PublicOffice)</th>\n",
       "      <td>float64</td>\n",
       "      <td>0</td>\n",
       "      <td>0.0</td>\n",
       "      <td>0.0</td>\n",
       "      <td>0.0</td>\n",
       "      <td>0.0</td>\n",
       "      <td>7.0</td>\n",
       "      <td>8</td>\n",
       "      <td>[3.0, 5.0, 7.0, 1.0, 4.0, 2.0, 6.0, 0.0]</td>\n",
       "    </tr>\n",
       "    <tr>\n",
       "      <th>N_SchoolNearBy(University)</th>\n",
       "      <td>float64</td>\n",
       "      <td>0</td>\n",
       "      <td>0.0</td>\n",
       "      <td>0.0</td>\n",
       "      <td>0.0</td>\n",
       "      <td>0.0</td>\n",
       "      <td>5.0</td>\n",
       "      <td>6</td>\n",
       "      <td>[2.0, 1.0, 3.0, 4.0, 5.0, 0.0]</td>\n",
       "    </tr>\n",
       "    <tr>\n",
       "      <th>N_Parkinglot(Basement)</th>\n",
       "      <td>float64</td>\n",
       "      <td>0</td>\n",
       "      <td>0.0</td>\n",
       "      <td>0.0</td>\n",
       "      <td>0.0</td>\n",
       "      <td>0.0</td>\n",
       "      <td>1321.0</td>\n",
       "      <td>20</td>\n",
       "      <td>[1270.0, 0.0, 56.0, 798.0, 536.0, 605.0, 203.0, 108.0, 1174.0, 930.0, 475.0, 184.0, 400.0, 218.0, 1321.0, 524.0, 76....</td>\n",
       "    </tr>\n",
       "    <tr>\n",
       "      <th>YearBuilt</th>\n",
       "      <td>int64</td>\n",
       "      <td>0</td>\n",
       "      <td>0.0</td>\n",
       "      <td>0.0</td>\n",
       "      <td>0.0</td>\n",
       "      <td>1978.0</td>\n",
       "      <td>2015.0</td>\n",
       "      <td>16</td>\n",
       "      <td>[2007, 1986, 1997, 2005, 2006, 2009, 2014, 1993, 2013, 2008, 2015, 1978, 1985, 1992, 2003, 1980]</td>\n",
       "    </tr>\n",
       "    <tr>\n",
       "      <th>N_FacilitiesInApt</th>\n",
       "      <td>int64</td>\n",
       "      <td>0</td>\n",
       "      <td>0.0</td>\n",
       "      <td>0.0</td>\n",
       "      <td>0.0</td>\n",
       "      <td>1.0</td>\n",
       "      <td>10.0</td>\n",
       "      <td>9</td>\n",
       "      <td>[10, 4, 5, 7, 2, 9, 8, 1, 3]</td>\n",
       "    </tr>\n",
       "    <tr>\n",
       "      <th>Size(sqf)</th>\n",
       "      <td>int64</td>\n",
       "      <td>0</td>\n",
       "      <td>0.0</td>\n",
       "      <td>0.0</td>\n",
       "      <td>0.0</td>\n",
       "      <td>135.0</td>\n",
       "      <td>2337.0</td>\n",
       "      <td>89</td>\n",
       "      <td>[1387, 914, 558, 1743, 1334, 572, 910, 288, 1131, 843, 1160, 644, 829, 743, 868, 1629, 1690, 1273, 1483, 156, 1412, ...</td>\n",
       "    </tr>\n",
       "    <tr>\n",
       "      <th>SalePrice</th>\n",
       "      <td>int64</td>\n",
       "      <td>0</td>\n",
       "      <td>0.0</td>\n",
       "      <td>0.0</td>\n",
       "      <td>0.0</td>\n",
       "      <td>32743.0</td>\n",
       "      <td>585840.0</td>\n",
       "      <td>838</td>\n",
       "      <td>[346017, 150442, 61946, 165486, 311504, 118584, 326548, 143362, 172566, 99823, 211504, 305309, 145132, 209734, 16814...</td>\n",
       "    </tr>\n",
       "  </tbody>\n",
       "</table>\n",
       "</div>"
      ],
      "text/plain": [
       "                                 datatype  null  %null  negative  %negative  \\\n",
       "HallwayType                        object     0    0.0       0.0        0.0   \n",
       "TimeToSubway                       object     0    0.0       0.0        0.0   \n",
       "SubwayStation                      object     0    0.0       0.0        0.0   \n",
       "N_FacilitiesNearBy(ETC)           float64     0    0.0       0.0        0.0   \n",
       "N_FacilitiesNearBy(PublicOffice)  float64     0    0.0       0.0        0.0   \n",
       "N_SchoolNearBy(University)        float64     0    0.0       0.0        0.0   \n",
       "N_Parkinglot(Basement)            float64     0    0.0       0.0        0.0   \n",
       "YearBuilt                           int64     0    0.0       0.0        0.0   \n",
       "N_FacilitiesInApt                   int64     0    0.0       0.0        0.0   \n",
       "Size(sqf)                           int64     0    0.0       0.0        0.0   \n",
       "SalePrice                           int64     0    0.0       0.0        0.0   \n",
       "\n",
       "                                  min_value  max_value  n_unique  \\\n",
       "HallwayType                             NaN        NaN         3   \n",
       "TimeToSubway                            NaN        NaN         5   \n",
       "SubwayStation                           NaN        NaN         8   \n",
       "N_FacilitiesNearBy(ETC)                 0.0        5.0         4   \n",
       "N_FacilitiesNearBy(PublicOffice)        0.0        7.0         8   \n",
       "N_SchoolNearBy(University)              0.0        5.0         6   \n",
       "N_Parkinglot(Basement)                  0.0     1321.0        20   \n",
       "YearBuilt                            1978.0     2015.0        16   \n",
       "N_FacilitiesInApt                       1.0       10.0         9   \n",
       "Size(sqf)                             135.0     2337.0        89   \n",
       "SalePrice                           32743.0   585840.0       838   \n",
       "\n",
       "                                                                                                                                            sample_unique  \n",
       "HallwayType                                                                                                                   [terraced, mixed, corridor]  \n",
       "TimeToSubway                                                                           [0-5min, 10min~15min, 15min~20min, 5min~10min, no_bus_stop_nearby]  \n",
       "SubwayStation                                 [Kyungbuk_uni_hospital, Chil-sung-market, Bangoge, Sin-nam, Banwoldang, no_subway_nearby, Myung-duk, Daegu]  \n",
       "N_FacilitiesNearBy(ETC)                                                                                                              [0.0, 1.0, 5.0, 2.0]  \n",
       "N_FacilitiesNearBy(PublicOffice)                                                                                 [3.0, 5.0, 7.0, 1.0, 4.0, 2.0, 6.0, 0.0]  \n",
       "N_SchoolNearBy(University)                                                                                                 [2.0, 1.0, 3.0, 4.0, 5.0, 0.0]  \n",
       "N_Parkinglot(Basement)            [1270.0, 0.0, 56.0, 798.0, 536.0, 605.0, 203.0, 108.0, 1174.0, 930.0, 475.0, 184.0, 400.0, 218.0, 1321.0, 524.0, 76....  \n",
       "YearBuilt                                                [2007, 1986, 1997, 2005, 2006, 2009, 2014, 1993, 2013, 2008, 2015, 1978, 1985, 1992, 2003, 1980]  \n",
       "N_FacilitiesInApt                                                                                                            [10, 4, 5, 7, 2, 9, 8, 1, 3]  \n",
       "Size(sqf)                         [1387, 914, 558, 1743, 1334, 572, 910, 288, 1131, 843, 1160, 644, 829, 743, 868, 1629, 1690, 1273, 1483, 156, 1412, ...  \n",
       "SalePrice                         [346017, 150442, 61946, 165486, 311504, 118584, 326548, 143362, 172566, 99823, 211504, 305309, 145132, 209734, 16814...  "
      ]
     },
     "execution_count": 4,
     "metadata": {},
     "output_type": "execute_result"
    }
   ],
   "source": [
    "# show data description\n",
    "print(f\"Jumlah Baris,Kolom : {data.shape}\")\n",
    "all_duplicate_data = data[data.duplicated(keep=False)]                                          # keep=False, semua data duplikat ditampilkan\n",
    "duplicate_data = data[data.duplicated()]                                    \n",
    "print(f\"Jumlah Seluruh Data Duplikat (Ditambah Data Aslinya) : {len(all_duplicate_data)}\")\n",
    "print(f\"Jumlah Data Duplikat Yang Dihapus : {len(duplicate_data)}\")\n",
    "print(f\"Jumlah Data Duplikat Yang Terjaga : {len(all_duplicate_data) - len(duplicate_data)}\")\n",
    "cols =['HallwayType', 'TimeToSubway', 'SubwayStation',\n",
    "       'N_FacilitiesNearBy(ETC)', 'N_FacilitiesNearBy(PublicOffice)',\n",
    "       'N_SchoolNearBy(University)', 'N_Parkinglot(Basement)', 'YearBuilt',\n",
    "       'N_FacilitiesInApt', 'Size(sqf)', 'SalePrice']\n",
    "pd.DataFrame({\n",
    "    'datatype': data[cols].dtypes.values,\n",
    "    'null': data[cols].isna().sum(),\n",
    "    '%null': data[cols].isna().mean().values * 100,\n",
    "    'negative': [data[col][data[col] < 0].sum() if data[col].dtype == 'int64' or data[col].dtype == 'float64' else 0 for col in cols],\n",
    "    '%negative': [data[col][data[col] < 0].sum() / data.shape[0] * 100 if data[col].dtype == 'int64' or data[col].dtype == 'float64' else 0 for col in cols],\n",
    "    'min_value': [data[col].min() if data[col].dtype == 'int64' or data[col].dtype == 'float64' else None for col in cols],\n",
    "    'max_value': [data[col].max() if data[col].dtype == 'int64' or data[col].dtype == 'float64' else None for col in cols],\n",
    "    'n_unique': data[cols].nunique().values,\n",
    "    'sample_unique': [data[col].unique() for col in cols]}\n",
    ")"
   ]
  },
  {
   "cell_type": "code",
   "execution_count": 5,
   "metadata": {},
   "outputs": [
    {
     "name": "stdout",
     "output_type": "stream",
     "text": [
      "Unique Value HallwayType : ['terraced' 'mixed' 'corridor']\n",
      "Unique Value TimeToSubway : ['0-5min' '10min~15min' '15min~20min' '5min~10min' 'no_bus_stop_nearby']\n",
      "Unique Value SubwayStation : ['Kyungbuk_uni_hospital' 'Chil-sung-market' 'Bangoge' 'Sin-nam'\n",
      " 'Banwoldang' 'no_subway_nearby' 'Myung-duk' 'Daegu']\n",
      "Unique Value N_FacilitiesNearBy(ETC) : [0. 1. 5. 2.]\n",
      "Unique Value N_FacilitiesNearBy(PublicOffice) : [3. 5. 7. 1. 4. 2. 6. 0.]\n",
      "Unique Value N_SchoolNearBy(University) : [2. 1. 3. 4. 5. 0.]\n",
      "Unique Value N_Parkinglot(Basement) : [1270.    0.   56.  798.  536.  605.  203.  108. 1174.  930.  475.  184.\n",
      "  400.  218. 1321.  524.   76.   79.  181.   18.]\n",
      "Unique Value YearBuilt : [2007 1986 1997 2005 2006 2009 2014 1993 2013 2008 2015 1978 1985 1992\n",
      " 2003 1980]\n",
      "Unique Value N_FacilitiesInApt : [10  4  5  7  2  9  8  1  3]\n"
     ]
    }
   ],
   "source": [
    "# Loop Unique Value Every Column Except Size(sqf) and SalePrice\n",
    "for col in data.columns:\n",
    "    if col not in ['Size(sqf)', 'SalePrice']:\n",
    "        print(f\"Unique Value {col} : {data[col].unique()}\")"
   ]
  },
  {
   "cell_type": "code",
   "execution_count": 6,
   "metadata": {},
   "outputs": [
    {
     "data": {
      "text/plain": [
       "1     464\n",
       "2    1131\n",
       "3    2528\n",
       "Name: HallwayType, dtype: int64"
      ]
     },
     "execution_count": 6,
     "metadata": {},
     "output_type": "execute_result"
    }
   ],
   "source": [
    "# Ordinal Encoding Column HallwayType\n",
    "data['HallwayType'] = data['HallwayType'].map({'terraced': 3, 'corridor': 1, 'mixed': 2})\n",
    "data['HallwayType'].value_counts().sort_index() "
   ]
  },
  {
   "cell_type": "code",
   "execution_count": 7,
   "metadata": {},
   "outputs": [
    {
     "data": {
      "text/plain": [
       "0     171\n",
       "1    1953\n",
       "2     787\n",
       "3     583\n",
       "4     629\n",
       "Name: TimeToSubway, dtype: int64"
      ]
     },
     "execution_count": 7,
     "metadata": {},
     "output_type": "execute_result"
    }
   ],
   "source": [
    "# Ordinal Encoding Column TimeToSubway\n",
    "data['TimeToSubway'] = data['TimeToSubway'].map({'0-5min': 1,'5min~10min': 2,'10min~15min': 3,'15min~20min': 4, 'no_bus_stop_nearby': 0})\n",
    "data['TimeToSubway'].value_counts().sort_index()"
   ]
  },
  {
   "cell_type": "code",
   "execution_count": 8,
   "metadata": {},
   "outputs": [
    {
     "data": {
      "text/plain": [
       "0     290\n",
       "1    1152\n",
       "2      74\n",
       "3     502\n",
       "4     467\n",
       "5     529\n",
       "6    1044\n",
       "7      65\n",
       "Name: SubwayStation, dtype: int64"
      ]
     },
     "execution_count": 8,
     "metadata": {},
     "output_type": "execute_result"
    }
   ],
   "source": [
    "# Ordinal Encoding Column SubwayStation\n",
    "data['SubwayStation'] = data['SubwayStation'].map({'Kyungbuk_uni_hospital': 1, 'Chil-sung-market':2 , 'Bangoge': 3, 'Sin-nam': 4,\n",
    "       'Banwoldang': 5, 'no_subway_nearby': 0, 'Myung-duk': 6, 'Daegu': 7})\n",
    "data['SubwayStation'].value_counts().sort_index()"
   ]
  },
  {
   "cell_type": "code",
   "execution_count": 9,
   "metadata": {},
   "outputs": [
    {
     "data": {
      "text/plain": [
       "1    1828\n",
       "2     631\n",
       "3     330\n",
       "4    1334\n",
       "Name: N_FacilitiesNearBy(ETC), dtype: int64"
      ]
     },
     "execution_count": 9,
     "metadata": {},
     "output_type": "execute_result"
    }
   ],
   "source": [
    "# Ordinal Encoding Column N_FacilitiesNearBy(ETC)\n",
    "data['N_FacilitiesNearBy(ETC)'] = data['N_FacilitiesNearBy(ETC)'].map({1: 2, 0: 1, 2: 3, 5: 4})\n",
    "data['N_FacilitiesNearBy(ETC)'].value_counts().sort_index()"
   ]
  },
  {
   "cell_type": "code",
   "execution_count": 10,
   "metadata": {},
   "outputs": [
    {
     "data": {
      "text/plain": [
       "1      46\n",
       "2     291\n",
       "3     530\n",
       "4     844\n",
       "5     254\n",
       "6    1252\n",
       "7     451\n",
       "8     455\n",
       "Name: N_FacilitiesNearBy(PublicOffice), dtype: int64"
      ]
     },
     "execution_count": 10,
     "metadata": {},
     "output_type": "execute_result"
    }
   ],
   "source": [
    "# Ordinal Encoding Column N_FacilitiesNearBy(PublicOffice)\n",
    "data['N_FacilitiesNearBy(PublicOffice)'] = data['N_FacilitiesNearBy(PublicOffice)'].map({0: 1, 1: 2, 2: 3, 3: 4, 4: 5, 5: 6, 6: 7, 7: 8})\n",
    "data['N_FacilitiesNearBy(PublicOffice)'].value_counts().sort_index()"
   ]
  },
  {
   "cell_type": "code",
   "execution_count": 11,
   "metadata": {},
   "outputs": [
    {
     "data": {
      "text/plain": [
       "1      97\n",
       "2     833\n",
       "3    1359\n",
       "4     396\n",
       "5     606\n",
       "6     832\n",
       "Name: N_SchoolNearBy(University), dtype: int64"
      ]
     },
     "execution_count": 11,
     "metadata": {},
     "output_type": "execute_result"
    }
   ],
   "source": [
    "# Ordinal Encoding Column N_SchoolNearBy(University)\n",
    "data['N_SchoolNearBy(University)'] = data['N_SchoolNearBy(University)'].map({0: 1, 1: 2, 2: 3, 3: 4, 4: 5, 5: 6})\n",
    "data['N_SchoolNearBy(University)'].value_counts().sort_index()"
   ]
  },
  {
   "cell_type": "code",
   "execution_count": 12,
   "metadata": {},
   "outputs": [
    {
     "data": {
      "text/plain": [
       "1    1070\n",
       "2     258\n",
       "3    1101\n",
       "4     715\n",
       "5     322\n",
       "6     159\n",
       "7     498\n",
       "Name: N_Parkinglot(Basement), dtype: int64"
      ]
     },
     "execution_count": 12,
     "metadata": {},
     "output_type": "execute_result"
    }
   ],
   "source": [
    "# Grouping Column N_Parkinglot(Basement) With Range 200 Each\n",
    "data['N_Parkinglot(Basement)'] = data['N_Parkinglot(Basement)'].apply(lambda x: int((x//200)+1))\n",
    "data['N_Parkinglot(Basement)'].value_counts().sort_index()"
   ]
  },
  {
   "cell_type": "code",
   "execution_count": 13,
   "metadata": {},
   "outputs": [
    {
     "data": {
      "text/plain": [
       "1      49\n",
       "2     328\n",
       "3     844\n",
       "4    2196\n",
       "5     706\n",
       "Name: YearBuilt, dtype: int64"
      ]
     },
     "execution_count": 13,
     "metadata": {},
     "output_type": "execute_result"
    }
   ],
   "source": [
    "# Grouping Column YearBuilt With Range 10 Each\n",
    "data['YearBuilt'] = data['YearBuilt'].apply(lambda x: (x//10)-196)\n",
    "data['YearBuilt'].value_counts().sort_index()"
   ]
  },
  {
   "cell_type": "code",
   "execution_count": 14,
   "metadata": {},
   "outputs": [
    {
     "data": {
      "text/plain": [
       "1     225\n",
       "2    2705\n",
       "3     827\n",
       "4     302\n",
       "5      64\n",
       "Name: Size(sqf), dtype: int64"
      ]
     },
     "execution_count": 14,
     "metadata": {},
     "output_type": "execute_result"
    }
   ],
   "source": [
    "# Grouping Column Size(sqf) With Range 500 Each\n",
    "data['Size(sqf)'] = data['Size(sqf)'].apply(lambda x: (x//500)+1)\n",
    "data['Size(sqf)'].value_counts().sort_index()"
   ]
  },
  {
   "cell_type": "code",
   "execution_count": 15,
   "metadata": {},
   "outputs": [
    {
     "data": {
      "text/plain": [
       "1     578\n",
       "2    1315\n",
       "3    1279\n",
       "4     708\n",
       "5     212\n",
       "6      31\n",
       "Name: SalePrice, dtype: int64"
      ]
     },
     "execution_count": 15,
     "metadata": {},
     "output_type": "execute_result"
    }
   ],
   "source": [
    "# Grouping Column SalePrice With Range 10000 Each\n",
    "data['SalePrice'] = data['SalePrice'].apply(lambda x: (x//100000)+1)\n",
    "data['SalePrice'].value_counts().sort_index()"
   ]
  },
  {
   "cell_type": "code",
   "execution_count": 16,
   "metadata": {},
   "outputs": [
    {
     "data": {
      "text/plain": [
       "1      41\n",
       "2      50\n",
       "3     477\n",
       "4    1001\n",
       "5     810\n",
       "6     838\n",
       "7     203\n",
       "8     159\n",
       "9     544\n",
       "Name: N_FacilitiesInApt, dtype: int64"
      ]
     },
     "execution_count": 16,
     "metadata": {},
     "output_type": "execute_result"
    }
   ],
   "source": [
    "# Ordinal Encoding Column N_FacilitiesInApt\n",
    "data['N_FacilitiesInApt'] = data['N_FacilitiesInApt'].map({1: 1, 2: 2, 3: 3, 4: 4, 5: 5, 7:6, 8:7, 9:8, 10:9})\n",
    "data['N_FacilitiesInApt'].value_counts().sort_index()"
   ]
  },
  {
   "cell_type": "code",
   "execution_count": 17,
   "metadata": {},
   "outputs": [],
   "source": [
    "# data to csv\n",
    "data.to_csv('../data/data_daegu_apartment_preprocessed.csv', index=False)"
   ]
  }
 ],
 "metadata": {
  "kernelspec": {
   "display_name": "Python 3",
   "language": "python",
   "name": "python3"
  },
  "language_info": {
   "codemirror_mode": {
    "name": "ipython",
    "version": 3
   },
   "file_extension": ".py",
   "mimetype": "text/x-python",
   "name": "python",
   "nbconvert_exporter": "python",
   "pygments_lexer": "ipython3",
   "version": "3.9.13"
  }
 },
 "nbformat": 4,
 "nbformat_minor": 2
}
